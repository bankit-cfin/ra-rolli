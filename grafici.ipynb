{
 "metadata": {
  "language_info": {
   "codemirror_mode": {
    "name": "ipython",
    "version": 3
   },
   "file_extension": ".py",
   "mimetype": "text/x-python",
   "name": "python",
   "nbconvert_exporter": "python",
   "pygments_lexer": "ipython3",
   "version": "3.9.1-final"
  },
  "orig_nbformat": 2,
  "kernelspec": {
   "name": "python3",
   "display_name": "Python 3.9.1 64-bit ('ra-rolli')",
   "metadata": {
    "interpreter": {
     "hash": "3f582a3692a33ea0485cbb2237fa28e7d820f99162598d0609e67d893259c46c"
    }
   }
  }
 },
 "nbformat": 4,
 "nbformat_minor": 2,
 "cells": [
  {
   "cell_type": "code",
   "execution_count": 10,
   "metadata": {},
   "outputs": [
    {
     "output_type": "execute_result",
     "data": {
      "text/plain": [
       "                                            Categoria  \\\n",
       "0                         Mercati finanziari e banche   \n",
       "1           Economia internazionale, commercio, cambi   \n",
       "2         Politica monetaria, prezzi, ciclo economico   \n",
       "3                      Econometria, metodi matematici   \n",
       "4             Mercato del lavoro, salari, innovazione   \n",
       "5              Consumo, risparmio, redditi, ricchezza   \n",
       "6                                    Politica fiscale   \n",
       "7                                Economia industriale   \n",
       "8      Istruzione, salute, sviluppo economico, storia   \n",
       "9   Residui: economia regionale, energia e ambient...   \n",
       "10                            Residui non considerati   \n",
       "0                         Mercati finanziari e banche   \n",
       "1           Economia internazionale, commercio, cambi   \n",
       "2         Politica monetaria, prezzi, ciclo economico   \n",
       "3                      Econometria, metodi matematici   \n",
       "4             Mercato del lavoro, salari, innovazione   \n",
       "5              Consumo, risparmio, redditi, ricchezza   \n",
       "6                                    Politica fiscale   \n",
       "7                                Economia industriale   \n",
       "8      Istruzione, salute, sviluppo economico, storia   \n",
       "9   Residui: economia regionale, energia e ambient...   \n",
       "10                            Residui non considerati   \n",
       "\n",
       "                              jelcodes  percentuale            anni  \n",
       "0                                    G     0.171001            2020  \n",
       "1                                    F     0.117710            2020  \n",
       "2                           E3, E4, E5     0.156581            2020  \n",
       "3                                    C     0.106929            2020  \n",
       "4                             D6, J, M     0.085206            2020  \n",
       "5   D1, D2, D3, D4, D5, D7, D8, E1, E2     0.108266            2020  \n",
       "6                                E6, H     0.076217            2020  \n",
       "7                                 K, L     0.055431            2020  \n",
       "8                              O, I, N     0.065543            2020  \n",
       "9              Q, R, Y, Z, P, D9, A, B     0.049625            2020  \n",
       "10                            E01, D03     0.007491            2020  \n",
       "0                                    G     0.160387  2017-2018-2019  \n",
       "1                                    F     0.072006  2017-2018-2019  \n",
       "2                           E3, E4, E5     0.129936  2017-2018-2019  \n",
       "3                                    C     0.102444  2017-2018-2019  \n",
       "4                             D6, J, M     0.102388  2017-2018-2019  \n",
       "5   D1, D2, D3, D4, D5, D7, D8, E1, E2     0.107226  2017-2018-2019  \n",
       "6                                E6, H     0.074687  2017-2018-2019  \n",
       "7                                 K, L     0.048099  2017-2018-2019  \n",
       "8                              O, I, N     0.103947  2017-2018-2019  \n",
       "9              Q, R, Y, Z, P, D9, A, B     0.097710  2017-2018-2019  \n",
       "10                            E71, E00     0.001170  2017-2018-2019  "
      ],
      "text/html": "<div>\n<style scoped>\n    .dataframe tbody tr th:only-of-type {\n        vertical-align: middle;\n    }\n\n    .dataframe tbody tr th {\n        vertical-align: top;\n    }\n\n    .dataframe thead th {\n        text-align: right;\n    }\n</style>\n<table border=\"1\" class=\"dataframe\">\n  <thead>\n    <tr style=\"text-align: right;\">\n      <th></th>\n      <th>Categoria</th>\n      <th>jelcodes</th>\n      <th>percentuale</th>\n      <th>anni</th>\n    </tr>\n  </thead>\n  <tbody>\n    <tr>\n      <th>0</th>\n      <td>Mercati finanziari e banche</td>\n      <td>G</td>\n      <td>0.171001</td>\n      <td>2020</td>\n    </tr>\n    <tr>\n      <th>1</th>\n      <td>Economia internazionale, commercio, cambi</td>\n      <td>F</td>\n      <td>0.117710</td>\n      <td>2020</td>\n    </tr>\n    <tr>\n      <th>2</th>\n      <td>Politica monetaria, prezzi, ciclo economico</td>\n      <td>E3, E4, E5</td>\n      <td>0.156581</td>\n      <td>2020</td>\n    </tr>\n    <tr>\n      <th>3</th>\n      <td>Econometria, metodi matematici</td>\n      <td>C</td>\n      <td>0.106929</td>\n      <td>2020</td>\n    </tr>\n    <tr>\n      <th>4</th>\n      <td>Mercato del lavoro, salari, innovazione</td>\n      <td>D6, J, M</td>\n      <td>0.085206</td>\n      <td>2020</td>\n    </tr>\n    <tr>\n      <th>5</th>\n      <td>Consumo, risparmio, redditi, ricchezza</td>\n      <td>D1, D2, D3, D4, D5, D7, D8, E1, E2</td>\n      <td>0.108266</td>\n      <td>2020</td>\n    </tr>\n    <tr>\n      <th>6</th>\n      <td>Politica fiscale</td>\n      <td>E6, H</td>\n      <td>0.076217</td>\n      <td>2020</td>\n    </tr>\n    <tr>\n      <th>7</th>\n      <td>Economia industriale</td>\n      <td>K, L</td>\n      <td>0.055431</td>\n      <td>2020</td>\n    </tr>\n    <tr>\n      <th>8</th>\n      <td>Istruzione, salute, sviluppo economico, storia</td>\n      <td>O, I, N</td>\n      <td>0.065543</td>\n      <td>2020</td>\n    </tr>\n    <tr>\n      <th>9</th>\n      <td>Residui: economia regionale, energia e ambient...</td>\n      <td>Q, R, Y, Z, P, D9, A, B</td>\n      <td>0.049625</td>\n      <td>2020</td>\n    </tr>\n    <tr>\n      <th>10</th>\n      <td>Residui non considerati</td>\n      <td>E01, D03</td>\n      <td>0.007491</td>\n      <td>2020</td>\n    </tr>\n    <tr>\n      <th>0</th>\n      <td>Mercati finanziari e banche</td>\n      <td>G</td>\n      <td>0.160387</td>\n      <td>2017-2018-2019</td>\n    </tr>\n    <tr>\n      <th>1</th>\n      <td>Economia internazionale, commercio, cambi</td>\n      <td>F</td>\n      <td>0.072006</td>\n      <td>2017-2018-2019</td>\n    </tr>\n    <tr>\n      <th>2</th>\n      <td>Politica monetaria, prezzi, ciclo economico</td>\n      <td>E3, E4, E5</td>\n      <td>0.129936</td>\n      <td>2017-2018-2019</td>\n    </tr>\n    <tr>\n      <th>3</th>\n      <td>Econometria, metodi matematici</td>\n      <td>C</td>\n      <td>0.102444</td>\n      <td>2017-2018-2019</td>\n    </tr>\n    <tr>\n      <th>4</th>\n      <td>Mercato del lavoro, salari, innovazione</td>\n      <td>D6, J, M</td>\n      <td>0.102388</td>\n      <td>2017-2018-2019</td>\n    </tr>\n    <tr>\n      <th>5</th>\n      <td>Consumo, risparmio, redditi, ricchezza</td>\n      <td>D1, D2, D3, D4, D5, D7, D8, E1, E2</td>\n      <td>0.107226</td>\n      <td>2017-2018-2019</td>\n    </tr>\n    <tr>\n      <th>6</th>\n      <td>Politica fiscale</td>\n      <td>E6, H</td>\n      <td>0.074687</td>\n      <td>2017-2018-2019</td>\n    </tr>\n    <tr>\n      <th>7</th>\n      <td>Economia industriale</td>\n      <td>K, L</td>\n      <td>0.048099</td>\n      <td>2017-2018-2019</td>\n    </tr>\n    <tr>\n      <th>8</th>\n      <td>Istruzione, salute, sviluppo economico, storia</td>\n      <td>O, I, N</td>\n      <td>0.103947</td>\n      <td>2017-2018-2019</td>\n    </tr>\n    <tr>\n      <th>9</th>\n      <td>Residui: economia regionale, energia e ambient...</td>\n      <td>Q, R, Y, Z, P, D9, A, B</td>\n      <td>0.097710</td>\n      <td>2017-2018-2019</td>\n    </tr>\n    <tr>\n      <th>10</th>\n      <td>Residui non considerati</td>\n      <td>E71, E00</td>\n      <td>0.001170</td>\n      <td>2017-2018-2019</td>\n    </tr>\n  </tbody>\n</table>\n</div>"
     },
     "metadata": {},
     "execution_count": 10
    }
   ],
   "source": [
    "## preparo i dati\n",
    "\n",
    "from jelcode import build_dataset, dataset\n",
    "x = build_dataset()\n",
    "\n",
    "anni = [\n",
    "    [2020],\n",
    "    [2017, 2018, 2019]\n",
    "]\n",
    "\n",
    "## gruppo 2020\n",
    "anni = [2020]\n",
    "dati = dataset(anni, d=x)\n",
    "dati[\"anni\"] = \"-\".join([str(anno) for anno in anni])\n",
    "\n",
    "## gruppo 2017, 2018, 2019\n",
    "anni = [2017, 2018, 2019]\n",
    "dati_171819 = dataset(anni, d=x)\n",
    "dati_171819[\"anni\"] = \"-\".join([str(anno) for anno in anni])\n",
    "\n",
    "## faccio un unico dataset:\n",
    "dati = dati.append(dati_171819)\n",
    "dati"
   ]
  },
  {
   "cell_type": "code",
   "execution_count": null,
   "metadata": {},
   "outputs": [],
   "source": []
  },
  {
   "cell_type": "code",
   "execution_count": 26,
   "metadata": {},
   "outputs": [
    {
     "output_type": "error",
     "ename": "ValueError",
     "evalue": "'hazel' is neither a valid single color nor a color sequence consisting of single character color specifiers such as 'rgb'. Note also that the latter is deprecated.",
     "traceback": [
      "\u001b[0;31m---------------------------------------------------------------------------\u001b[0m",
      "\u001b[0;31mValueError\u001b[0m                                Traceback (most recent call last)",
      "\u001b[0;32m~/.virtualenvs/ra-rolli/lib/python3.9/site-packages/matplotlib/colors.py\u001b[0m in \u001b[0;36mto_rgba_array\u001b[0;34m(c, alpha)\u001b[0m\n\u001b[1;32m    324\u001b[0m         \u001b[0;32mtry\u001b[0m\u001b[0;34m:\u001b[0m\u001b[0;34m\u001b[0m\u001b[0;34m\u001b[0m\u001b[0m\n\u001b[0;32m--> 325\u001b[0;31m             \u001b[0mresult\u001b[0m \u001b[0;34m=\u001b[0m \u001b[0mnp\u001b[0m\u001b[0;34m.\u001b[0m\u001b[0marray\u001b[0m\u001b[0;34m(\u001b[0m\u001b[0;34m[\u001b[0m\u001b[0mto_rgba\u001b[0m\u001b[0;34m(\u001b[0m\u001b[0mcc\u001b[0m\u001b[0;34m,\u001b[0m \u001b[0malpha\u001b[0m\u001b[0;34m)\u001b[0m \u001b[0;32mfor\u001b[0m \u001b[0mcc\u001b[0m \u001b[0;32min\u001b[0m \u001b[0mc\u001b[0m\u001b[0;34m]\u001b[0m\u001b[0;34m)\u001b[0m\u001b[0;34m\u001b[0m\u001b[0;34m\u001b[0m\u001b[0m\n\u001b[0m\u001b[1;32m    326\u001b[0m         \u001b[0;32mexcept\u001b[0m \u001b[0mValueError\u001b[0m \u001b[0;32mas\u001b[0m \u001b[0merr\u001b[0m\u001b[0;34m:\u001b[0m\u001b[0;34m\u001b[0m\u001b[0;34m\u001b[0m\u001b[0m\n",
      "\u001b[0;32m~/.virtualenvs/ra-rolli/lib/python3.9/site-packages/matplotlib/colors.py\u001b[0m in \u001b[0;36m<listcomp>\u001b[0;34m(.0)\u001b[0m\n\u001b[1;32m    324\u001b[0m         \u001b[0;32mtry\u001b[0m\u001b[0;34m:\u001b[0m\u001b[0;34m\u001b[0m\u001b[0;34m\u001b[0m\u001b[0m\n\u001b[0;32m--> 325\u001b[0;31m             \u001b[0mresult\u001b[0m \u001b[0;34m=\u001b[0m \u001b[0mnp\u001b[0m\u001b[0;34m.\u001b[0m\u001b[0marray\u001b[0m\u001b[0;34m(\u001b[0m\u001b[0;34m[\u001b[0m\u001b[0mto_rgba\u001b[0m\u001b[0;34m(\u001b[0m\u001b[0mcc\u001b[0m\u001b[0;34m,\u001b[0m \u001b[0malpha\u001b[0m\u001b[0;34m)\u001b[0m \u001b[0;32mfor\u001b[0m \u001b[0mcc\u001b[0m \u001b[0;32min\u001b[0m \u001b[0mc\u001b[0m\u001b[0;34m]\u001b[0m\u001b[0;34m)\u001b[0m\u001b[0;34m\u001b[0m\u001b[0;34m\u001b[0m\u001b[0m\n\u001b[0m\u001b[1;32m    326\u001b[0m         \u001b[0;32mexcept\u001b[0m \u001b[0mValueError\u001b[0m \u001b[0;32mas\u001b[0m \u001b[0merr\u001b[0m\u001b[0;34m:\u001b[0m\u001b[0;34m\u001b[0m\u001b[0;34m\u001b[0m\u001b[0m\n",
      "\u001b[0;32m~/.virtualenvs/ra-rolli/lib/python3.9/site-packages/matplotlib/colors.py\u001b[0m in \u001b[0;36mto_rgba\u001b[0;34m(c, alpha)\u001b[0m\n\u001b[1;32m    188\u001b[0m     \u001b[0;32mif\u001b[0m \u001b[0mrgba\u001b[0m \u001b[0;32mis\u001b[0m \u001b[0;32mNone\u001b[0m\u001b[0;34m:\u001b[0m  \u001b[0;31m# Suppress exception chaining of cache lookup failure.\u001b[0m\u001b[0;34m\u001b[0m\u001b[0;34m\u001b[0m\u001b[0m\n\u001b[0;32m--> 189\u001b[0;31m         \u001b[0mrgba\u001b[0m \u001b[0;34m=\u001b[0m \u001b[0m_to_rgba_no_colorcycle\u001b[0m\u001b[0;34m(\u001b[0m\u001b[0mc\u001b[0m\u001b[0;34m,\u001b[0m \u001b[0malpha\u001b[0m\u001b[0;34m)\u001b[0m\u001b[0;34m\u001b[0m\u001b[0;34m\u001b[0m\u001b[0m\n\u001b[0m\u001b[1;32m    190\u001b[0m         \u001b[0;32mtry\u001b[0m\u001b[0;34m:\u001b[0m\u001b[0;34m\u001b[0m\u001b[0;34m\u001b[0m\u001b[0m\n",
      "\u001b[0;32m~/.virtualenvs/ra-rolli/lib/python3.9/site-packages/matplotlib/colors.py\u001b[0m in \u001b[0;36m_to_rgba_no_colorcycle\u001b[0;34m(c, alpha)\u001b[0m\n\u001b[1;32m    259\u001b[0m             \u001b[0;32mreturn\u001b[0m \u001b[0mc\u001b[0m\u001b[0;34m,\u001b[0m \u001b[0mc\u001b[0m\u001b[0;34m,\u001b[0m \u001b[0mc\u001b[0m\u001b[0;34m,\u001b[0m \u001b[0malpha\u001b[0m \u001b[0;32mif\u001b[0m \u001b[0malpha\u001b[0m \u001b[0;32mis\u001b[0m \u001b[0;32mnot\u001b[0m \u001b[0;32mNone\u001b[0m \u001b[0;32melse\u001b[0m \u001b[0;36m1.\u001b[0m\u001b[0;34m\u001b[0m\u001b[0;34m\u001b[0m\u001b[0m\n\u001b[0;32m--> 260\u001b[0;31m         \u001b[0;32mraise\u001b[0m \u001b[0mValueError\u001b[0m\u001b[0;34m(\u001b[0m\u001b[0;34mf\"Invalid RGBA argument: {orig_c!r}\"\u001b[0m\u001b[0;34m)\u001b[0m\u001b[0;34m\u001b[0m\u001b[0;34m\u001b[0m\u001b[0m\n\u001b[0m\u001b[1;32m    261\u001b[0m     \u001b[0;31m# tuple color.\u001b[0m\u001b[0;34m\u001b[0m\u001b[0;34m\u001b[0m\u001b[0;34m\u001b[0m\u001b[0m\n",
      "\u001b[0;31mValueError\u001b[0m: Invalid RGBA argument: 'h'",
      "\nThe above exception was the direct cause of the following exception:\n",
      "\u001b[0;31mValueError\u001b[0m                                Traceback (most recent call last)",
      "\u001b[0;32m<ipython-input-26-e8870d858433>\u001b[0m in \u001b[0;36m<module>\u001b[0;34m\u001b[0m\n\u001b[1;32m     13\u001b[0m \u001b[0;34m\u001b[0m\u001b[0m\n\u001b[1;32m     14\u001b[0m \u001b[0mfig\u001b[0m\u001b[0;34m,\u001b[0m \u001b[0max\u001b[0m \u001b[0;34m=\u001b[0m \u001b[0mplt\u001b[0m\u001b[0;34m.\u001b[0m\u001b[0msubplots\u001b[0m\u001b[0;34m(\u001b[0m\u001b[0;34m)\u001b[0m\u001b[0;34m\u001b[0m\u001b[0;34m\u001b[0m\u001b[0m\n\u001b[0;32m---> 15\u001b[0;31m \u001b[0max\u001b[0m\u001b[0;34m.\u001b[0m\u001b[0mbarh\u001b[0m\u001b[0;34m(\u001b[0m\u001b[0mind\u001b[0m\u001b[0;34m,\u001b[0m \u001b[0mdf\u001b[0m\u001b[0;34m[\u001b[0m\u001b[0;34m\"2020\"\u001b[0m\u001b[0;34m]\u001b[0m\u001b[0;34m,\u001b[0m \u001b[0mwidth\u001b[0m\u001b[0;34m,\u001b[0m \u001b[0mcolor\u001b[0m\u001b[0;34m=\u001b[0m\u001b[0;34m'hazel'\u001b[0m\u001b[0;34m,\u001b[0m \u001b[0mlabel\u001b[0m\u001b[0;34m=\u001b[0m\u001b[0;34m\"2020\"\u001b[0m\u001b[0;34m)\u001b[0m\u001b[0;34m\u001b[0m\u001b[0;34m\u001b[0m\u001b[0m\n\u001b[0m\u001b[1;32m     16\u001b[0m \u001b[0max\u001b[0m\u001b[0;34m.\u001b[0m\u001b[0mbarh\u001b[0m\u001b[0;34m(\u001b[0m\u001b[0mind\u001b[0m \u001b[0;34m+\u001b[0m \u001b[0mwidth\u001b[0m\u001b[0;34m,\u001b[0m \u001b[0mdf\u001b[0m\u001b[0;34m[\u001b[0m\u001b[0;34m\"2017-2018-2019\"\u001b[0m\u001b[0;34m]\u001b[0m\u001b[0;34m,\u001b[0m \u001b[0mwidth\u001b[0m\u001b[0;34m,\u001b[0m \u001b[0mcolor\u001b[0m\u001b[0;34m=\u001b[0m\u001b[0;34m'green'\u001b[0m\u001b[0;34m,\u001b[0m \u001b[0mlabel\u001b[0m\u001b[0;34m=\u001b[0m\u001b[0;34m\"2017-2018-2019\"\u001b[0m\u001b[0;34m)\u001b[0m\u001b[0;34m\u001b[0m\u001b[0;34m\u001b[0m\u001b[0m\n\u001b[1;32m     17\u001b[0m \u001b[0;34m\u001b[0m\u001b[0m\n",
      "\u001b[0;32m~/.virtualenvs/ra-rolli/lib/python3.9/site-packages/matplotlib/axes/_axes.py\u001b[0m in \u001b[0;36mbarh\u001b[0;34m(self, y, width, height, left, align, **kwargs)\u001b[0m\n\u001b[1;32m   2628\u001b[0m         \"\"\"\n\u001b[1;32m   2629\u001b[0m         \u001b[0mkwargs\u001b[0m\u001b[0;34m.\u001b[0m\u001b[0msetdefault\u001b[0m\u001b[0;34m(\u001b[0m\u001b[0;34m'orientation'\u001b[0m\u001b[0;34m,\u001b[0m \u001b[0;34m'horizontal'\u001b[0m\u001b[0;34m)\u001b[0m\u001b[0;34m\u001b[0m\u001b[0;34m\u001b[0m\u001b[0m\n\u001b[0;32m-> 2630\u001b[0;31m         patches = self.bar(x=left, height=height, width=width, bottom=y,\n\u001b[0m\u001b[1;32m   2631\u001b[0m                            align=align, **kwargs)\n\u001b[1;32m   2632\u001b[0m         \u001b[0;32mreturn\u001b[0m \u001b[0mpatches\u001b[0m\u001b[0;34m\u001b[0m\u001b[0;34m\u001b[0m\u001b[0m\n",
      "\u001b[0;32m~/.virtualenvs/ra-rolli/lib/python3.9/site-packages/matplotlib/__init__.py\u001b[0m in \u001b[0;36minner\u001b[0;34m(ax, data, *args, **kwargs)\u001b[0m\n\u001b[1;32m   1445\u001b[0m     \u001b[0;32mdef\u001b[0m \u001b[0minner\u001b[0m\u001b[0;34m(\u001b[0m\u001b[0max\u001b[0m\u001b[0;34m,\u001b[0m \u001b[0;34m*\u001b[0m\u001b[0margs\u001b[0m\u001b[0;34m,\u001b[0m \u001b[0mdata\u001b[0m\u001b[0;34m=\u001b[0m\u001b[0;32mNone\u001b[0m\u001b[0;34m,\u001b[0m \u001b[0;34m**\u001b[0m\u001b[0mkwargs\u001b[0m\u001b[0;34m)\u001b[0m\u001b[0;34m:\u001b[0m\u001b[0;34m\u001b[0m\u001b[0;34m\u001b[0m\u001b[0m\n\u001b[1;32m   1446\u001b[0m         \u001b[0;32mif\u001b[0m \u001b[0mdata\u001b[0m \u001b[0;32mis\u001b[0m \u001b[0;32mNone\u001b[0m\u001b[0;34m:\u001b[0m\u001b[0;34m\u001b[0m\u001b[0;34m\u001b[0m\u001b[0m\n\u001b[0;32m-> 1447\u001b[0;31m             \u001b[0;32mreturn\u001b[0m \u001b[0mfunc\u001b[0m\u001b[0;34m(\u001b[0m\u001b[0max\u001b[0m\u001b[0;34m,\u001b[0m \u001b[0;34m*\u001b[0m\u001b[0mmap\u001b[0m\u001b[0;34m(\u001b[0m\u001b[0msanitize_sequence\u001b[0m\u001b[0;34m,\u001b[0m \u001b[0margs\u001b[0m\u001b[0;34m)\u001b[0m\u001b[0;34m,\u001b[0m \u001b[0;34m**\u001b[0m\u001b[0mkwargs\u001b[0m\u001b[0;34m)\u001b[0m\u001b[0;34m\u001b[0m\u001b[0;34m\u001b[0m\u001b[0m\n\u001b[0m\u001b[1;32m   1448\u001b[0m \u001b[0;34m\u001b[0m\u001b[0m\n\u001b[1;32m   1449\u001b[0m         \u001b[0mbound\u001b[0m \u001b[0;34m=\u001b[0m \u001b[0mnew_sig\u001b[0m\u001b[0;34m.\u001b[0m\u001b[0mbind\u001b[0m\u001b[0;34m(\u001b[0m\u001b[0max\u001b[0m\u001b[0;34m,\u001b[0m \u001b[0;34m*\u001b[0m\u001b[0margs\u001b[0m\u001b[0;34m,\u001b[0m \u001b[0;34m**\u001b[0m\u001b[0mkwargs\u001b[0m\u001b[0;34m)\u001b[0m\u001b[0;34m\u001b[0m\u001b[0;34m\u001b[0m\u001b[0m\n",
      "\u001b[0;32m~/.virtualenvs/ra-rolli/lib/python3.9/site-packages/matplotlib/axes/_axes.py\u001b[0m in \u001b[0;36mbar\u001b[0;34m(self, x, height, width, bottom, align, **kwargs)\u001b[0m\n\u001b[1;32m   2441\u001b[0m \u001b[0;34m\u001b[0m\u001b[0m\n\u001b[1;32m   2442\u001b[0m         \u001b[0mlinewidth\u001b[0m \u001b[0;34m=\u001b[0m \u001b[0mitertools\u001b[0m\u001b[0;34m.\u001b[0m\u001b[0mcycle\u001b[0m\u001b[0;34m(\u001b[0m\u001b[0mnp\u001b[0m\u001b[0;34m.\u001b[0m\u001b[0matleast_1d\u001b[0m\u001b[0;34m(\u001b[0m\u001b[0mlinewidth\u001b[0m\u001b[0;34m)\u001b[0m\u001b[0;34m)\u001b[0m\u001b[0;34m\u001b[0m\u001b[0;34m\u001b[0m\u001b[0m\n\u001b[0;32m-> 2443\u001b[0;31m         color = itertools.chain(itertools.cycle(mcolors.to_rgba_array(color)),\n\u001b[0m\u001b[1;32m   2444\u001b[0m                                 \u001b[0;31m# Fallback if color == \"none\".\u001b[0m\u001b[0;34m\u001b[0m\u001b[0;34m\u001b[0m\u001b[0;34m\u001b[0m\u001b[0m\n\u001b[1;32m   2445\u001b[0m                                 itertools.repeat('none'))\n",
      "\u001b[0;32m~/.virtualenvs/ra-rolli/lib/python3.9/site-packages/matplotlib/colors.py\u001b[0m in \u001b[0;36mto_rgba_array\u001b[0;34m(c, alpha)\u001b[0m\n\u001b[1;32m    325\u001b[0m             \u001b[0mresult\u001b[0m \u001b[0;34m=\u001b[0m \u001b[0mnp\u001b[0m\u001b[0;34m.\u001b[0m\u001b[0marray\u001b[0m\u001b[0;34m(\u001b[0m\u001b[0;34m[\u001b[0m\u001b[0mto_rgba\u001b[0m\u001b[0;34m(\u001b[0m\u001b[0mcc\u001b[0m\u001b[0;34m,\u001b[0m \u001b[0malpha\u001b[0m\u001b[0;34m)\u001b[0m \u001b[0;32mfor\u001b[0m \u001b[0mcc\u001b[0m \u001b[0;32min\u001b[0m \u001b[0mc\u001b[0m\u001b[0;34m]\u001b[0m\u001b[0;34m)\u001b[0m\u001b[0;34m\u001b[0m\u001b[0;34m\u001b[0m\u001b[0m\n\u001b[1;32m    326\u001b[0m         \u001b[0;32mexcept\u001b[0m \u001b[0mValueError\u001b[0m \u001b[0;32mas\u001b[0m \u001b[0merr\u001b[0m\u001b[0;34m:\u001b[0m\u001b[0;34m\u001b[0m\u001b[0;34m\u001b[0m\u001b[0m\n\u001b[0;32m--> 327\u001b[0;31m             raise ValueError(\n\u001b[0m\u001b[1;32m    328\u001b[0m                 \u001b[0;34m\"'%s' is neither a valid single color nor a color sequence \"\u001b[0m\u001b[0;34m\u001b[0m\u001b[0;34m\u001b[0m\u001b[0m\n\u001b[1;32m    329\u001b[0m                 \u001b[0;34m\"consisting of single character color specifiers such as \"\u001b[0m\u001b[0;34m\u001b[0m\u001b[0;34m\u001b[0m\u001b[0m\n",
      "\u001b[0;31mValueError\u001b[0m: 'hazel' is neither a valid single color nor a color sequence consisting of single character color specifiers such as 'rgb'. Note also that the latter is deprecated."
     ]
    }
   ],
   "source": [
    "import pandas\n",
    "import matplotlib.pyplot as plt\n",
    "import numpy as np\n",
    "\n",
    "df = pandas.DataFrame({\n",
    "        \"graph\": dati.Categoria.unique(),\n",
    "        \"2020\": dati[dati.anni == \"2020\"].percentuale * 100,\n",
    "        \"2017-2018-2019\": dati[dati.anni == \"2017-2018-2019\"].percentuale * 100\n",
    "    }) \n",
    "\n",
    "ind = np.arange(len(df))\n",
    "width = 0.4\n",
    "\n",
    "fig, ax = plt.subplots()\n",
    "ax.barh(ind, df[\"2020\"], width, color='blue', label=\"2020\")\n",
    "ax.barh(ind + width, df[\"2017-2018-2019\"], width, color='grey', label=\"2017-2018-2019\")\n",
    "\n",
    "ax.set(yticks=ind + width, yticklabels=df.graph, ylim=[2 * width - 1, len(df)])\n",
    "ax.legend()\n",
    "\n"
   ]
  },
  {
   "cell_type": "code",
   "execution_count": null,
   "metadata": {},
   "outputs": [],
   "source": []
  }
 ]
}